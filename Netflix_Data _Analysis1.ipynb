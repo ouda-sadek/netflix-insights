{
 "cells": [
  {
   "cell_type": "code",
   "execution_count": null,
   "id": "dcbe76ef-fd1c-4007-b5bb-49837d973e8f",
   "metadata": {},
   "outputs": [],
   "source": [
    "import pandas as pd\n",
    "df = pd.read_csv (\"netflix_titles.csv\")\n",
    "print (df)"
   ]
  },
  {
   "cell_type": "code",
   "execution_count": null,
   "id": "8c401226-5afb-4e1a-a1c5-711efcd18a05",
   "metadata": {},
   "outputs": [],
   "source": [
    "import pandas as pd\n",
    "df = pd.read_csv (\"netflix_titles.csv\")\n",
    "print (df)"
   ]
  },
  {
   "cell_type": "code",
   "execution_count": null,
   "id": "5464f732-4d2d-439a-b1e0-bef439bd5196",
   "metadata": {},
   "outputs": [],
   "source": [
    "print(\"\\n5 first observations :\\n\")\n",
    "df.head()"
   ]
  },
  {
   "cell_type": "code",
   "execution_count": null,
   "id": "b6db8255-12db-48e5-87d7-fc92b8a7f323",
   "metadata": {},
   "outputs": [],
   "source": [
    "print(\"\\n5 last observations :\\n\")\n",
    "df.tail()"
   ]
  },
  {
   "cell_type": "code",
   "execution_count": null,
   "id": "9f094a20-8d0a-439a-82ac-78e643238c1f",
   "metadata": {},
   "outputs": [],
   "source": [
    "df.info()"
   ]
  },
  {
   "cell_type": "code",
   "execution_count": null,
   "id": "53c5aa01-001f-473d-ade6-5c43a7995df8",
   "metadata": {},
   "outputs": [],
   "source": [
    "print(\"DataFrame Dimension:\", df.shape)"
   ]
  },
  {
   "cell_type": "code",
   "execution_count": null,
   "id": "a8471db1-9fb9-4eda-b622-dcfd549b6c7f",
   "metadata": {},
   "outputs": [],
   "source": [
    "df.columns"
   ]
  },
  {
   "cell_type": "code",
   "execution_count": null,
   "id": "1691e6a7-6280-4793-8ec5-f5d75b0175b2",
   "metadata": {},
   "outputs": [],
   "source": [
    "print(\"DataFrame Column Types :\\n\")\n",
    "print(df.dtypes)"
   ]
  },
  {
   "cell_type": "code",
   "execution_count": null,
   "id": "9b796ee3-da8b-4185-91c5-717f2cc6180d",
   "metadata": {},
   "outputs": [],
   "source": [
    "missing_values = df.isnull().sum()\n",
    "print(\"Number of missing values per column: \\n\")\n",
    "print(missing_values)"
   ]
  },
  {
   "cell_type": "code",
   "execution_count": null,
   "id": "d039ccc8-30c8-47c1-ade0-a18a4703fffe",
   "metadata": {},
   "outputs": [],
   "source": [
    "missing_percentage = (missing_values / len(df)) * 100\n",
    "print(\"Proportion of missing values in percentage: \\n\")\n",
    "print(missing_percentage)"
   ]
  },
  {
   "cell_type": "code",
   "execution_count": null,
   "id": "6f8bba60-a17c-40b5-9311-c2e7151889b3",
   "metadata": {},
   "outputs": [],
   "source": [
    "!pip install missingno"
   ]
  },
  {
   "cell_type": "code",
   "execution_count": null,
   "id": "e3148450-eb18-4122-8278-bd7dfd3e4480",
   "metadata": {
    "scrolled": true
   },
   "outputs": [],
   "source": [
    "msno.bar(df)       \n",
    "#msno.heatmap(df)   \n",
    "#msno.dendrogram(df)  \n"
   ]
  },
  {
   "cell_type": "code",
   "execution_count": null,
   "id": "d510e59f-74ee-46d8-81ef-d73d94e6206a",
   "metadata": {},
   "outputs": [],
   "source": [
    "df_with_na = df[df.columns[df.isnull().any()]]\n",
    "msno.bar(df_with_na)"
   ]
  },
  {
   "cell_type": "code",
   "execution_count": null,
   "id": "9677a273-3f54-4d97-bb54-a37d729b0e89",
   "metadata": {},
   "outputs": [],
   "source": [
    "missing_percentage = df.isnull().mean() * 100\n",
    "missing_percentage = missing_percentage[missing_percentage > 0] \n",
    "\n",
    "\n",
    "print(\"Proportion des valeurs manquantes (%):\\n\")\n",
    "print(missing_percentage.sort_values(ascending=False))\n"
   ]
  },
  {
   "cell_type": "code",
   "execution_count": null,
   "id": "9f2258b5-b384-43cc-880d-dcb4c9e30f50",
   "metadata": {},
   "outputs": [],
   "source": [
    "df.sample(1)\n"
   ]
  },
  {
   "cell_type": "code",
   "execution_count": null,
   "id": "f53ef6d9-8df8-4cf0-aa99-7c87d8c35f5f",
   "metadata": {},
   "outputs": [],
   "source": [
    "df.sample(5)\n"
   ]
  },
  {
   "cell_type": "code",
   "execution_count": null,
   "id": "6ccd0c5e-9d78-431b-a962-a0c02fdf24a3",
   "metadata": {},
   "outputs": [],
   "source": [
    "df[df['title'] == \"Catch Me If You Can\"]\n"
   ]
  },
  {
   "cell_type": "code",
   "execution_count": null,
   "id": "21e0429e-4543-4a51-a454-1a3c961c21cf",
   "metadata": {},
   "outputs": [],
   "source": [
    "df[df['title'].str.lower() == \"catch me if you can\"]\n"
   ]
  },
  {
   "cell_type": "code",
   "execution_count": null,
   "id": "62efd08e-4cdb-4001-a5fd-348e91f01eda",
   "metadata": {},
   "outputs": [],
   "source": [
    "\n",
    "df[df['release_year'] == df['release_year'].max()]['title']\n"
   ]
  },
  {
   "cell_type": "code",
   "execution_count": null,
   "id": "c2c55824-48c7-40dd-a6aa-c8f1e7af4d75",
   "metadata": {},
   "outputs": [],
   "source": [
    "df[df['release_year'] == df['release_year'].max()]\n"
   ]
  },
  {
   "cell_type": "code",
   "execution_count": null,
   "id": "01b507f0-6120-496b-aa14-5712fe57f1b7",
   "metadata": {},
   "outputs": [],
   "source": [
    "year_max = df['release_year'].max()\n",
    "recent_movies = df[df['release_year'] == year_max]['title']\n",
    "print(f\"Most recent film(s) ({year_max}) :\")\n",
    "print(recent_movies)"
   ]
  },
  {
   "cell_type": "code",
   "execution_count": null,
   "id": "71302998-de7b-4ce7-85d5-d65891f81a07",
   "metadata": {},
   "outputs": [],
   "source": [
    "#df['date_added'] = df['date_added'].astype(str)\n",
    "#df['date_added'] = df['date_added'].str.strip()\n",
    "df['date_added'] = pd.to_datetime(df['date_added'], errors='coerce')\n",
    "date_max = df['date_added'].max()\n",
    "recent_movies = df[df['date_added'] == date_max]['title']\n",
    "print(f\"Film(s) added on {date_max.date()} :\")\n",
    "print(recent_movies)\n"
   ]
  },
  {
   "cell_type": "code",
   "execution_count": null,
   "id": "f344f5d7-ea95-4a65-b1f2-05880e90c5d6",
   "metadata": {},
   "outputs": [],
   "source": [
    "df[df['date_added'] == date_max]"
   ]
  },
  {
   "cell_type": "code",
   "execution_count": null,
   "id": "f05c6035-bfc8-4000-b3ab-aadafc940973",
   "metadata": {},
   "outputs": [],
   "source": [
    "series_df = df[df['type'] == 'TV Show']\n",
    "recent_series_date = series_df['date_added'].max()\n",
    "recent_series = series_df[series_df['date_added'] == recent_series_date]['title']\n",
    "print(f\"Serie(s) added on {recent_series_date.date()} :\")\n",
    "print(recent_series)"
   ]
  },
  {
   "cell_type": "code",
   "execution_count": null,
   "id": "d4b1db3c-471c-4a3d-958a-cba2bb078b76",
   "metadata": {
    "scrolled": true
   },
   "outputs": [],
   "source": [
    "series_df[series_df['date_added'] == recent_series_date]"
   ]
  },
  {
   "cell_type": "code",
   "execution_count": null,
   "id": "8aaae673-6c22-4380-b1de-e36b77b8f63e",
   "metadata": {},
   "outputs": [],
   "source": [
    "df['date_added'] = pd.to_datetime(df['date_added'], errors='coerce')\n",
    "print(df['date_added'].dtype)"
   ]
  },
  {
   "cell_type": "code",
   "execution_count": null,
   "id": "2adb5cf7-8103-494c-85dd-79558061fe67",
   "metadata": {},
   "outputs": [],
   "source": [
    "print(\"DataFrame Column Types :\\n\")\n",
    "print(df.dtypes)\n",
    "print ("
   ]
  },
  {
   "cell_type": "code",
   "execution_count": null,
   "id": "7ac24505-9407-4fb4-9b91-27945a4c38af",
   "metadata": {},
   "outputs": [],
   "source": [
    "df['duration'] = df['duration'].apply(lambda x: x.replace(' min', '') if isinstance(x, str) and 'min' in x else x)\n",
    "df['duration'] = pd.to_numeric(df['duration'], errors='coerce')\n",
    "print(df['duration'].head())"
   ]
  },
  {
   "cell_type": "code",
   "execution_count": null,
   "id": "eb547c35-b350-482a-b352-7d1a8c6ed46d",
   "metadata": {},
   "outputs": [],
   "source": [
    "df.loc[df['type'] == 'TV Show', 'duration'] = df['duration'].apply(lambda x: x.replace(' Seasons', '') if isinstance(x, str) and 'Seasons' in x else x)\n",
    "df.loc[df['type'] == 'TV Show', 'duration'] = pd.to_numeric(df['duration'], errors='coerce')\n",
    "print(df['duration'].head())"
   ]
  },
  {
   "cell_type": "code",
   "execution_count": null,
   "id": "11d125a7-8599-482e-9634-aab4c2bcdb5d",
   "metadata": {},
   "outputs": [],
   "source": [
    "\n",
    "df['duration'] = df['duration'].apply(lambda x: x.replace(' min', '') if isinstance(x, str) and 'min' in x else x)\n",
    "\n",
    "\n",
    "df['duration'] = pd.to_numeric(df['duration'], errors='coerce')\n",
    "\n",
    "print(df['duration'].head())\n",
    "\n"
   ]
  },
  {
   "cell_type": "code",
   "execution_count": null,
   "id": "8ab0f5e0-2cd5-4c7a-ad89-99bcfe2bf440",
   "metadata": {},
   "outputs": [],
   "source": [
    "\n",
    "df.loc[df['type'] == 'Movie', 'duration'] = df['duration'].apply(\n",
    "    lambda x: x.replace(' min', '') if isinstance(x, str) and 'min' in x else x\n",
    ")\n",
    "\n",
    "\n",
    "df.loc[df['type'] == 'Movie', 'duration'] = pd.to_numeric(df.loc[df['type'] == 'Movie', 'duration'], errors='coerce')\n",
    "#print(df['duration'].head())\n",
    "\n",
    "print(df[df['type'] == 'Movie']['duration'].head())\n"
   ]
  },
  {
   "cell_type": "code",
   "execution_count": null,
   "id": "513f51a3-f68a-4cd1-bb42-965db513b186",
   "metadata": {},
   "outputs": [],
   "source": [
    "\n",
    "df.loc[df['type'] == 'TV Show', 'duration'] = df['duration'].apply(\n",
    "    lambda x: int(x.replace(' Seasons', '')) if isinstance(x, str) and 'Seasons' in x else x\n",
    ")\n",
    "\n",
    "\n",
    "print(df[df['type'] == 'TV Show']['duration'].head())\n"
   ]
  }
 ],
 "metadata": {
  "kernelspec": {
   "display_name": "Python 3 (ipykernel)",
   "language": "python",
   "name": "python3"
  },
  "language_info": {
   "codemirror_mode": {
    "name": "ipython",
    "version": 3
   },
   "file_extension": ".py",
   "mimetype": "text/x-python",
   "name": "python",
   "nbconvert_exporter": "python",
   "pygments_lexer": "ipython3",
   "version": "3.13.2"
  }
 },
 "nbformat": 4,
 "nbformat_minor": 5
}
